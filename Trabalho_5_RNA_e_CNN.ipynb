{
  "cells": [
    {
      "cell_type": "markdown",
      "metadata": {
        "id": "KipUZZtyTYIy"
      },
      "source": [
        "# **Redes Neurais e CNN: Identificação de Objetos**\n",
        "\n",
        "Alunos: Ana Carolina da Silva, Gustavo Baroni Bruder, Luiz Gustavo Klitzke, Rodrigo Kapulka Franco, Nicole Bauchspiess "
      ]
    },
    {
      "cell_type": "markdown",
      "metadata": {
        "id": "MjiEkS5gUJrq"
      },
      "source": [
        "Neste trabalho iremos fazer a identificação de um conjunto de dados de imagens de artigos de Zalando chamado Fashion-MNIST, que consiste em um conjunto de treinamento de 60.000 exemplos e um conjunto de teste de 10.000 exemplos. Cada exemplo é uma imagem em tons de cinza 28x28, associada a um rótulo de 10 classes.\n",
        "\n",
        "Fonte: https://www.tensorflow.org/datasets/catalog/fashion_mnist?hl=pt-br"
      ]
    },
    {
      "cell_type": "markdown",
      "metadata": {
        "id": "3ass6OdNXC8M"
      },
      "source": [
        "# **ATIVIDADE:**\n",
        "\n",
        "**Descrição:**\n",
        "\n",
        "Nesta atividade, você receberá um código de uma Rede Neural Artificial e uma Rede Neural Convolucional (CNN) implementada. Sua tarefa é analisar o código fornecido e fazer uma interpretação detalhada de cada linha, identificando e explicando as principais etapas, camadas e operações realizadas pela RNA e pela CNN.\n",
        "\n",
        "**Instruções:**\n",
        "\n",
        "1. Preencha o código com comentários em cada linha, explicando sua função e propósito.\n",
        "2. Analise o código cuidadosamente para entender como a CNN é configurada.\n",
        "3. Identifique e explique as camadas de convolução, camadas de pooling, camadas densas, funções de ativação, tamanhos dos filtros, número de neurônios, etc.\n",
        "4. Identifique quais técnicas de regularização ou otimização formam utilizadas no código e explique como elas contribuem para o desempenho e a generalização do modelo.\n",
        "5. Comente sobre a função de ativação utilizada na camada de saída.\n",
        "6. Descreva os hiperparâmetros e ajustes do modelo, como a taxa de aprendizado, número de épocas de treinamento e o tratamento dos conjuntos de dados de treinamento e teste.\n",
        "7. Faça uma avaliação descritiva dos resultados das Redes Neurais implementadas.\n",
        "\n",
        "\n",
        "\n",
        "**Entregável:**\n",
        "\n",
        "Prepare uma análise detalhada do código fornecido, destacando as principais características da CNN e como ela é configurada para a tarefa em questão. Se necessário, inclua observações sobre o potencial de melhoria ou otimização do modelo.\n",
        "\n",
        "Esta atividade visa consolidar seu conhecimento sobre CNNs, ajudando a compreender como uma Rede Neural Convolucional é implementada e configurada para tarefas específicas."
      ]
    },
    {
      "cell_type": "code",
      "execution_count": 1,
      "metadata": {
        "id": "ohTl6Xp6LuJs"
      },
      "outputs": [],
      "source": [
        "#Import das bibliotecas base de tensor e keras\n",
        "import tensorflow as tf\n",
        "from tensorflow import keras"
      ]
    },
    {
      "cell_type": "code",
      "execution_count": 2,
      "metadata": {
        "id": "0FcIBZhXLuJt"
      },
      "outputs": [],
      "source": [
        "#Bibliotecas de auxílio para funções matemáticas e plots\n",
        "import numpy as np\n",
        "import pandas as pd\n",
        "from matplotlib import pyplot as plt\n",
        "%matplotlib inline"
      ]
    },
    {
      "cell_type": "markdown",
      "metadata": {
        "id": "adqNGOKbLuJu"
      },
      "source": [
        "## Importando base de dados"
      ]
    },
    {
      "cell_type": "code",
      "execution_count": 3,
      "metadata": {
        "id": "9JlM4b_QLuJu"
      },
      "outputs": [],
      "source": [
        "#Carrega o dataset \"Fashion MNIST\" do Keras - https://keras.io/api/datasets/fashion_mnist/\n",
        "fashion_mnist = keras.datasets.fashion_mnist"
      ]
    },
    {
      "cell_type": "code",
      "execution_count": 6,
      "metadata": {
        "id": "y5VmgIppLuJv"
      },
      "outputs": [],
      "source": [
        "#Obtem os arrays contendo os dados de treino e de testes\n",
        "\n",
        "# X = array de imagens 28x28 em escala de cinza\n",
        "# Y = labels correspondentes (inteiros de 0-9)\n",
        "(X_train_full, y_train_full), (X_test, y_test) = fashion_mnist.load_data()"
      ]
    },
    {
      "cell_type": "code",
      "execution_count": 8,
      "metadata": {
        "id": "SaEdFh0WLuJv"
      },
      "outputs": [
        {
          "name": "stdout",
          "output_type": "stream",
          "text": [
            "(60000, 28, 28)\n",
            "(60000,)\n",
            "(10000, 28, 28)\n",
            "(10000,)\n"
          ]
        }
      ],
      "source": [
        "#Demonstra o formato dos arrays\n",
        "\n",
        "#Dados de treino\n",
        "print(X_train_full.shape)\n",
        "print(y_train_full.shape)\n",
        "\n",
        "#Dados de teste\n",
        "print(X_test.shape)\n",
        "print(y_test.shape)"
      ]
    },
    {
      "cell_type": "code",
      "execution_count": 9,
      "metadata": {
        "id": "YP10-ncGLuJv"
      },
      "outputs": [],
      "source": [
        "#Separa os dados recebidos de X em 2 arrays: X_valid e X_train, com um recebendo os primeiros 5000 itens e o outros os demais.\n",
        "#Divide também cada um dos valores dos arrays por 255, alterando seu range para entre 0 e 1.\n",
        "X_valid, X_train = X_train_full[:5000] / 255.0, X_train_full[5000:] / 255.0\n",
        "\n",
        "#Faz a mesma divisão de Y em dois arrays, mas aqui não ocorre alteração de seus valores.\n",
        "y_valid, y_train = y_train_full[:5000], y_train_full[5000:]"
      ]
    },
    {
      "cell_type": "code",
      "execution_count": 10,
      "metadata": {
        "id": "VAoUtsIkLuJv"
      },
      "outputs": [],
      "source": [
        "#Relaciona nomes para cada umas das classes/labels providas pelo dataset\n",
        "nomes_classes = [\"camisa/top\", \"calca\", \"casaco\", \"vestido\", \"jaqueta\",\n",
        "               \"sandalia\", \"camiseta\", \"tenis\", \"bolsa\", \"bota\"]"
      ]
    },
    {
      "cell_type": "code",
      "execution_count": 11,
      "metadata": {
        "id": "VR_2fLo-LuJv"
      },
      "outputs": [
        {
          "data": {
            "text/plain": [
              "'bota'"
            ]
          },
          "execution_count": 11,
          "metadata": {},
          "output_type": "execute_result"
        }
      ],
      "source": [
        "#Demonstra o nome da classe na posição 5 do array de treino, que é 9 = \"bota\"\n",
        "nomes_classes[y_train[5]]"
      ]
    },
    {
      "cell_type": "code",
      "execution_count": 12,
      "metadata": {
        "id": "cwh2gxu9LuJw"
      },
      "outputs": [
        {
          "data": {
            "text/plain": [
              "array([[0.        , 0.        , 0.        , 0.        , 0.        ,\n",
              "        0.        , 0.        , 0.        , 0.        , 0.        ,\n",
              "        0.        , 0.        , 0.        , 0.        , 0.        ,\n",
              "        0.        , 0.        , 0.        , 0.        , 0.        ,\n",
              "        0.        , 0.        , 0.        , 0.        , 0.        ,\n",
              "        0.        , 0.        , 0.        ],\n",
              "       [0.        , 0.        , 0.        , 0.        , 0.        ,\n",
              "        0.        , 0.        , 0.        , 0.        , 0.        ,\n",
              "        0.        , 0.        , 0.        , 0.        , 0.        ,\n",
              "        0.        , 0.        , 0.        , 0.        , 0.        ,\n",
              "        0.        , 0.        , 0.        , 0.        , 0.        ,\n",
              "        0.        , 0.        , 0.        ],\n",
              "       [0.        , 0.        , 0.        , 0.        , 0.        ,\n",
              "        0.        , 0.        , 0.        , 0.        , 0.        ,\n",
              "        0.        , 0.        , 0.        , 0.        , 0.        ,\n",
              "        0.        , 0.        , 0.        , 0.        , 0.        ,\n",
              "        0.        , 0.        , 0.        , 0.        , 0.        ,\n",
              "        0.        , 0.        , 0.        ],\n",
              "       [0.        , 0.        , 0.        , 0.        , 0.        ,\n",
              "        0.        , 0.        , 0.        , 0.        , 0.        ,\n",
              "        0.        , 0.        , 0.        , 0.        , 0.        ,\n",
              "        0.        , 0.        , 0.        , 0.        , 0.        ,\n",
              "        0.        , 0.        , 0.        , 0.        , 0.        ,\n",
              "        0.        , 0.        , 0.        ],\n",
              "       [0.        , 0.        , 0.        , 0.        , 0.        ,\n",
              "        0.        , 0.        , 0.        , 0.        , 0.        ,\n",
              "        0.        , 0.        , 0.        , 0.        , 0.        ,\n",
              "        0.        , 0.        , 0.        , 0.        , 0.        ,\n",
              "        0.        , 0.        , 0.        , 0.        , 0.        ,\n",
              "        0.        , 0.        , 0.        ],\n",
              "       [0.        , 0.        , 0.        , 0.        , 0.        ,\n",
              "        0.        , 0.        , 0.        , 0.        , 0.        ,\n",
              "        0.        , 0.        , 0.        , 0.        , 0.        ,\n",
              "        0.        , 0.        , 0.        , 0.        , 0.        ,\n",
              "        0.        , 0.        , 0.        , 0.        , 0.        ,\n",
              "        0.12156863, 0.43529412, 0.01176471],\n",
              "       [0.        , 0.        , 0.        , 0.        , 0.        ,\n",
              "        0.        , 0.        , 0.        , 0.        , 0.        ,\n",
              "        0.        , 0.        , 0.        , 0.        , 0.02745098,\n",
              "        0.        , 0.2745098 , 0.92156863, 0.24313725, 0.        ,\n",
              "        0.        , 0.        , 0.        , 0.        , 0.36862745,\n",
              "        0.56078431, 0.12156863, 0.25098039],\n",
              "       [0.        , 0.        , 0.        , 0.        , 0.        ,\n",
              "        0.        , 0.        , 0.        , 0.        , 0.        ,\n",
              "        0.        , 0.        , 0.        , 0.        , 0.03529412,\n",
              "        0.        , 0.36078431, 0.90588235, 0.85098039, 0.71372549,\n",
              "        0.75686275, 0.77647059, 0.78039216, 0.78431373, 0.67058824,\n",
              "        0.65490196, 0.39215686, 0.07843137],\n",
              "       [0.        , 0.        , 0.        , 0.        , 0.        ,\n",
              "        0.        , 0.        , 0.        , 0.        , 0.        ,\n",
              "        0.        , 0.        , 0.        , 0.        , 0.        ,\n",
              "        0.        , 0.59607843, 0.83921569, 0.85098039, 0.93333333,\n",
              "        0.92941176, 0.91764706, 0.93333333, 0.86666667, 0.61176471,\n",
              "        0.73333333, 0.29411765, 0.        ],\n",
              "       [0.        , 0.        , 0.        , 0.        , 0.        ,\n",
              "        0.        , 0.        , 0.        , 0.        , 0.        ,\n",
              "        0.        , 0.        , 0.        , 0.01176471, 0.        ,\n",
              "        0.        , 0.81960784, 0.82352941, 0.85882353, 0.85098039,\n",
              "        0.83137255, 0.85490196, 0.88627451, 0.80392157, 0.7254902 ,\n",
              "        0.83529412, 0.00784314, 0.        ],\n",
              "       [0.        , 0.        , 0.        , 0.        , 0.        ,\n",
              "        0.        , 0.        , 0.        , 0.        , 0.        ,\n",
              "        0.        , 0.        , 0.        , 0.00784314, 0.        ,\n",
              "        0.14509804, 0.89411765, 0.78823529, 0.8745098 , 0.8627451 ,\n",
              "        0.86666667, 0.87843137, 0.92156863, 0.83137255, 0.75294118,\n",
              "        0.81176471, 0.        , 0.        ],\n",
              "       [0.        , 0.        , 0.        , 0.        , 0.        ,\n",
              "        0.        , 0.        , 0.        , 0.        , 0.        ,\n",
              "        0.        , 0.        , 0.        , 0.        , 0.        ,\n",
              "        0.45882353, 0.8745098 , 0.81960784, 0.87843137, 0.86666667,\n",
              "        0.8627451 , 0.87058824, 0.90196078, 0.8627451 , 0.77647059,\n",
              "        0.92156863, 0.03921569, 0.        ],\n",
              "       [0.        , 0.        , 0.        , 0.        , 0.        ,\n",
              "        0.        , 0.        , 0.        , 0.        , 0.00392157,\n",
              "        0.        , 0.        , 0.00784314, 0.        , 0.        ,\n",
              "        0.80784314, 0.79607843, 0.83529412, 0.87058824, 0.8627451 ,\n",
              "        0.8627451 , 0.8745098 , 0.90196078, 0.92156863, 0.61176471,\n",
              "        0.81176471, 0.12156863, 0.        ],\n",
              "       [0.        , 0.        , 0.        , 0.        , 0.        ,\n",
              "        0.        , 0.        , 0.        , 0.        , 0.        ,\n",
              "        0.        , 0.        , 0.        , 0.        , 0.38039216,\n",
              "        0.94901961, 0.7254902 , 0.81568627, 0.86666667, 0.85882353,\n",
              "        0.86666667, 0.87058824, 0.89411765, 0.93333333, 0.34509804,\n",
              "        0.5254902 , 0.30980392, 0.        ],\n",
              "       [0.        , 0.        , 0.        , 0.        , 0.        ,\n",
              "        0.        , 0.        , 0.        , 0.        , 0.        ,\n",
              "        0.        , 0.02352941, 0.        , 0.02352941, 0.88627451,\n",
              "        0.76078431, 0.72156863, 0.8627451 , 0.8627451 , 0.86666667,\n",
              "        0.87058824, 0.88627451, 0.87843137, 0.99607843, 0.52941176,\n",
              "        0.52156863, 0.6627451 , 0.        ],\n",
              "       [0.        , 0.        , 0.        , 0.        , 0.        ,\n",
              "        0.        , 0.        , 0.        , 0.        , 0.        ,\n",
              "        0.01568627, 0.        , 0.        , 0.76862745, 0.77254902,\n",
              "        0.70196078, 0.76078431, 0.84705882, 0.85882353, 0.86666667,\n",
              "        0.87843137, 0.88235294, 0.85098039, 1.        , 0.63529412,\n",
              "        0.47843137, 0.74509804, 0.01176471],\n",
              "       [0.        , 0.        , 0.        , 0.        , 0.        ,\n",
              "        0.00392157, 0.01176471, 0.01568627, 0.01960784, 0.00784314,\n",
              "        0.        , 0.        , 0.70196078, 0.67843137, 0.51372549,\n",
              "        0.71764706, 0.81568627, 0.82352941, 0.85098039, 0.8745098 ,\n",
              "        0.87058824, 0.91764706, 0.96862745, 0.85098039, 0.47058824,\n",
              "        0.51764706, 0.79215686, 0.21960784],\n",
              "       [0.00392157, 0.00784314, 0.01176471, 0.01568627, 0.        ,\n",
              "        0.        , 0.        , 0.        , 0.        , 0.        ,\n",
              "        0.17254902, 0.77647059, 0.70588235, 0.        , 0.34117647,\n",
              "        0.82745098, 0.76862745, 0.94509804, 0.91764706, 0.85098039,\n",
              "        0.91372549, 0.85098039, 0.79215686, 0.74509804, 0.54509804,\n",
              "        0.72941176, 0.92941176, 0.38039216],\n",
              "       [0.00392157, 0.        , 0.        , 0.        , 0.        ,\n",
              "        0.00392157, 0.05490196, 0.14117647, 0.36470588, 0.6745098 ,\n",
              "        0.87843137, 0.51764706, 0.        , 0.43921569, 0.8745098 ,\n",
              "        0.81176471, 0.41568627, 0.23921569, 0.65098039, 0.79607843,\n",
              "        0.81960784, 0.38431373, 0.47843137, 0.6627451 , 0.65490196,\n",
              "        0.58823529, 0.63921569, 0.38431373],\n",
              "       [0.        , 0.        , 0.24705882, 0.40392157, 0.52941176,\n",
              "        0.63529412, 0.68627451, 0.6745098 , 0.58823529, 0.35686275,\n",
              "        0.01960784, 0.        , 0.50980392, 0.9372549 , 0.7254902 ,\n",
              "        0.77254902, 0.82352941, 0.74117647, 0.93333333, 0.98039216,\n",
              "        0.94509804, 0.82352941, 0.77254902, 0.66666667, 0.57254902,\n",
              "        0.45490196, 0.72941176, 0.2627451 ],\n",
              "       [0.16862745, 0.72941176, 0.72156863, 0.7372549 , 0.6627451 ,\n",
              "        0.48235294, 0.29019608, 0.30980392, 0.19607843, 0.34901961,\n",
              "        0.54509804, 0.91764706, 0.8745098 , 0.86666667, 0.90588235,\n",
              "        0.90588235, 0.87058824, 0.82745098, 0.7254902 , 0.64313725,\n",
              "        0.6745098 , 0.78431373, 0.92156863, 0.90980392, 0.69411765,\n",
              "        0.54117647, 0.75686275, 0.11764706],\n",
              "       [0.30980392, 0.72941176, 0.78431373, 0.81568627, 0.85882353,\n",
              "        0.85098039, 0.82352941, 0.82352941, 0.84313725, 0.86666667,\n",
              "        0.88627451, 0.8745098 , 0.8745098 , 0.85882353, 0.81176471,\n",
              "        0.76470588, 0.75686275, 0.82745098, 0.93333333, 0.92156863,\n",
              "        0.77254902, 0.80784314, 0.81568627, 0.80392157, 0.78431373,\n",
              "        0.76078431, 0.9254902 , 0.10980392],\n",
              "       [0.        , 0.        , 0.26666667, 0.52941176, 0.71372549,\n",
              "        0.69803922, 0.76470588, 0.78823529, 0.81960784, 0.8745098 ,\n",
              "        0.88627451, 0.8745098 , 0.83921569, 0.9254902 , 0.89803922,\n",
              "        0.80784314, 0.67058824, 0.54117647, 0.36078431, 0.50196078,\n",
              "        1.        , 0.85882353, 0.9372549 , 1.        , 0.91372549,\n",
              "        0.83921569, 1.        , 0.24313725],\n",
              "       [0.        , 0.        , 0.        , 0.        , 0.        ,\n",
              "        0.        , 0.04705882, 0.13333333, 0.19607843, 0.23529412,\n",
              "        0.23529412, 0.23137255, 0.23137255, 0.14117647, 0.        ,\n",
              "        0.        , 0.        , 0.        , 0.        , 0.        ,\n",
              "        0.63137255, 0.6       , 0.4745098 , 0.42745098, 0.3254902 ,\n",
              "        0.24705882, 0.14509804, 0.        ],\n",
              "       [0.        , 0.        , 0.        , 0.        , 0.        ,\n",
              "        0.        , 0.        , 0.        , 0.        , 0.        ,\n",
              "        0.        , 0.        , 0.        , 0.        , 0.        ,\n",
              "        0.        , 0.        , 0.        , 0.        , 0.        ,\n",
              "        0.        , 0.        , 0.        , 0.        , 0.        ,\n",
              "        0.        , 0.        , 0.        ],\n",
              "       [0.        , 0.        , 0.        , 0.        , 0.        ,\n",
              "        0.        , 0.        , 0.        , 0.        , 0.        ,\n",
              "        0.        , 0.        , 0.        , 0.        , 0.        ,\n",
              "        0.        , 0.        , 0.        , 0.        , 0.        ,\n",
              "        0.        , 0.        , 0.        , 0.        , 0.        ,\n",
              "        0.        , 0.        , 0.        ],\n",
              "       [0.        , 0.        , 0.        , 0.        , 0.        ,\n",
              "        0.        , 0.        , 0.        , 0.        , 0.        ,\n",
              "        0.        , 0.        , 0.        , 0.        , 0.        ,\n",
              "        0.        , 0.        , 0.        , 0.        , 0.        ,\n",
              "        0.        , 0.        , 0.        , 0.        , 0.        ,\n",
              "        0.        , 0.        , 0.        ],\n",
              "       [0.        , 0.        , 0.        , 0.        , 0.        ,\n",
              "        0.        , 0.        , 0.        , 0.        , 0.        ,\n",
              "        0.        , 0.        , 0.        , 0.        , 0.        ,\n",
              "        0.        , 0.        , 0.        , 0.        , 0.        ,\n",
              "        0.        , 0.        , 0.        , 0.        , 0.        ,\n",
              "        0.        , 0.        , 0.        ]])"
            ]
          },
          "execution_count": 12,
          "metadata": {},
          "output_type": "execute_result"
        }
      ],
      "source": [
        "#Demonstra o valor, ou representação em array 28x28, da imagem de treino na posição 5\n",
        "X_train[5]"
      ]
    },
    {
      "cell_type": "code",
      "execution_count": 13,
      "metadata": {
        "id": "vZVGsmUDLuJw"
      },
      "outputs": [
        {
          "name": "stdout",
          "output_type": "stream",
          "text": [
            "bota\n"
          ]
        },
        {
          "data": {
            "image/png": "[encoded data removed]",
            "text/plain": [
              "<Figure size 640x480 with 1 Axes>"
            ]
          },
          "metadata": {},
          "output_type": "display_data"
        }
      ],
      "source": [
        "#Define qual index dos arrays de treino vamos usar de exemplo\n",
        "exemplo_n = 5\n",
        "\n",
        "#Printa o nome da classe da label presente na posição exemplo_n do array de treino - \"bota\"\n",
        "print(nomes_classes[y_train[exemplo_n]])\n",
        "\n",
        "#Mostra a imagem presente no array de treino, no mesmo index - uma bota :D\n",
        "plt.imshow(X_train[exemplo_n], interpolation='nearest')\n",
        "plt.show()"
      ]
    },
    {
      "cell_type": "markdown",
      "metadata": {
        "id": "-ixdiQPDLuJw"
      },
      "source": [
        "#  Rede Neural Artificial com Keras"
      ]
    },
    {
      "cell_type": "code",
      "execution_count": 14,
      "metadata": {
        "id": "SBZRAsYaLuJw"
      },
      "outputs": [
        {
          "name": "stderr",
          "output_type": "stream",
          "text": [
            "c:\\Users\\luizk\\AppData\\Local\\Programs\\Python\\Python311\\Lib\\site-packages\\keras\\src\\layers\\reshaping\\flatten.py:37: UserWarning: Do not pass an `input_shape`/`input_dim` argument to a layer. When using Sequential models, prefer using an `Input(shape)` object as the first layer in the model instead.\n",
            "  super().__init__(**kwargs)\n"
          ]
        },
        {
          "data": {
            "text/html": [
              "<pre style=\"white-space:pre;overflow-x:auto;line-height:normal;font-family:Menlo,'DejaVu Sans Mono',consolas,'Courier New',monospace\"><span style=\"font-weight: bold\">Model: \"sequential\"</span>\n",
              "</pre>\n"
            ],
            "text/plain": [
              "\u001b[1mModel: \"sequential\"\u001b[0m\n"
            ]
          },
          "metadata": {},
          "output_type": "display_data"
        },
        {
          "data": {
            "text/html": [
              "<pre style=\"white-space:pre;overflow-x:auto;line-height:normal;font-family:Menlo,'DejaVu Sans Mono',consolas,'Courier New',monospace\">┏━━━━━━━━━━━━━━━━━━━━━━━━━━━━━━━━━┳━━━━━━━━━━━━━━━━━━━━━━━━┳━━━━━━━━━━━━━━━┓\n",
              "┃<span style=\"font-weight: bold\"> Layer (type)                    </span>┃<span style=\"font-weight: bold\"> Output Shape           </span>┃<span style=\"font-weight: bold\">       Param # </span>┃\n",
              "┡━━━━━━━━━━━━━━━━━━━━━━━━━━━━━━━━━╇━━━━━━━━━━━━━━━━━━━━━━━━╇━━━━━━━━━━━━━━━┩\n",
              "│ flatten (<span style=\"color: #0087ff; text-decoration-color: #0087ff\">Flatten</span>)               │ (<span style=\"color: #00d7ff; text-decoration-color: #00d7ff\">None</span>, <span style=\"color: #00af00; text-decoration-color: #00af00\">784</span>)            │             <span style=\"color: #00af00; text-decoration-color: #00af00\">0</span> │\n",
              "├─────────────────────────────────┼────────────────────────┼───────────────┤\n",
              "│ dense (<span style=\"color: #0087ff; text-decoration-color: #0087ff\">Dense</span>)                   │ (<span style=\"color: #00d7ff; text-decoration-color: #00d7ff\">None</span>, <span style=\"color: #00af00; text-decoration-color: #00af00\">300</span>)            │       <span style=\"color: #00af00; text-decoration-color: #00af00\">235,500</span> │\n",
              "├─────────────────────────────────┼────────────────────────┼───────────────┤\n",
              "│ dropout (<span style=\"color: #0087ff; text-decoration-color: #0087ff\">Dropout</span>)               │ (<span style=\"color: #00d7ff; text-decoration-color: #00d7ff\">None</span>, <span style=\"color: #00af00; text-decoration-color: #00af00\">300</span>)            │             <span style=\"color: #00af00; text-decoration-color: #00af00\">0</span> │\n",
              "├─────────────────────────────────┼────────────────────────┼───────────────┤\n",
              "│ dense_1 (<span style=\"color: #0087ff; text-decoration-color: #0087ff\">Dense</span>)                 │ (<span style=\"color: #00d7ff; text-decoration-color: #00d7ff\">None</span>, <span style=\"color: #00af00; text-decoration-color: #00af00\">100</span>)            │        <span style=\"color: #00af00; text-decoration-color: #00af00\">30,100</span> │\n",
              "├─────────────────────────────────┼────────────────────────┼───────────────┤\n",
              "│ dropout_1 (<span style=\"color: #0087ff; text-decoration-color: #0087ff\">Dropout</span>)             │ (<span style=\"color: #00d7ff; text-decoration-color: #00d7ff\">None</span>, <span style=\"color: #00af00; text-decoration-color: #00af00\">100</span>)            │             <span style=\"color: #00af00; text-decoration-color: #00af00\">0</span> │\n",
              "├─────────────────────────────────┼────────────────────────┼───────────────┤\n",
              "│ dense_2 (<span style=\"color: #0087ff; text-decoration-color: #0087ff\">Dense</span>)                 │ (<span style=\"color: #00d7ff; text-decoration-color: #00d7ff\">None</span>, <span style=\"color: #00af00; text-decoration-color: #00af00\">10</span>)             │         <span style=\"color: #00af00; text-decoration-color: #00af00\">1,010</span> │\n",
              "└─────────────────────────────────┴────────────────────────┴───────────────┘\n",
              "</pre>\n"
            ],
            "text/plain": [
              "┏━━━━━━━━━━━━━━━━━━━━━━━━━━━━━━━━━┳━━━━━━━━━━━━━━━━━━━━━━━━┳━━━━━━━━━━━━━━━┓\n",
              "┃\u001b[1m \u001b[0m\u001b[1mLayer (type)                   \u001b[0m\u001b[1m \u001b[0m┃\u001b[1m \u001b[0m\u001b[1mOutput Shape          \u001b[0m\u001b[1m \u001b[0m┃\u001b[1m \u001b[0m\u001b[1m      Param #\u001b[0m\u001b[1m \u001b[0m┃\n",
              "┡━━━━━━━━━━━━━━━━━━━━━━━━━━━━━━━━━╇━━━━━━━━━━━━━━━━━━━━━━━━╇━━━━━━━━━━━━━━━┩\n",
              "│ flatten (\u001b[38;5;33mFlatten\u001b[0m)               │ (\u001b[38;5;45mNone\u001b[0m, \u001b[38;5;34m784\u001b[0m)            │             \u001b[38;5;34m0\u001b[0m │\n",
              "├─────────────────────────────────┼────────────────────────┼───────────────┤\n",
              "│ dense (\u001b[38;5;33mDense\u001b[0m)                   │ (\u001b[38;5;45mNone\u001b[0m, \u001b[38;5;34m300\u001b[0m)            │       \u001b[38;5;34m235,500\u001b[0m │\n",
              "├─────────────────────────────────┼────────────────────────┼───────────────┤\n",
              "│ dropout (\u001b[38;5;33mDropout\u001b[0m)               │ (\u001b[38;5;45mNone\u001b[0m, \u001b[38;5;34m300\u001b[0m)            │             \u001b[38;5;34m0\u001b[0m │\n",
              "├─────────────────────────────────┼────────────────────────┼───────────────┤\n",
              "│ dense_1 (\u001b[38;5;33mDense\u001b[0m)                 │ (\u001b[38;5;45mNone\u001b[0m, \u001b[38;5;34m100\u001b[0m)            │        \u001b[38;5;34m30,100\u001b[0m │\n",
              "├─────────────────────────────────┼────────────────────────┼───────────────┤\n",
              "│ dropout_1 (\u001b[38;5;33mDropout\u001b[0m)             │ (\u001b[38;5;45mNone\u001b[0m, \u001b[38;5;34m100\u001b[0m)            │             \u001b[38;5;34m0\u001b[0m │\n",
              "├─────────────────────────────────┼────────────────────────┼───────────────┤\n",
              "│ dense_2 (\u001b[38;5;33mDense\u001b[0m)                 │ (\u001b[38;5;45mNone\u001b[0m, \u001b[38;5;34m10\u001b[0m)             │         \u001b[38;5;34m1,010\u001b[0m │\n",
              "└─────────────────────────────────┴────────────────────────┴───────────────┘\n"
            ]
          },
          "metadata": {},
          "output_type": "display_data"
        },
        {
          "data": {
            "text/html": [
              "<pre style=\"white-space:pre;overflow-x:auto;line-height:normal;font-family:Menlo,'DejaVu Sans Mono',consolas,'Courier New',monospace\"><span style=\"font-weight: bold\"> Total params: </span><span style=\"color: #00af00; text-decoration-color: #00af00\">266,610</span> (1.02 MB)\n",
              "</pre>\n"
            ],
            "text/plain": [
              "\u001b[1m Total params: \u001b[0m\u001b[38;5;34m266,610\u001b[0m (1.02 MB)\n"
            ]
          },
          "metadata": {},
          "output_type": "display_data"
        },
        {
          "data": {
            "text/html": [
              "<pre style=\"white-space:pre;overflow-x:auto;line-height:normal;font-family:Menlo,'DejaVu Sans Mono',consolas,'Courier New',monospace\"><span style=\"font-weight: bold\"> Trainable params: </span><span style=\"color: #00af00; text-decoration-color: #00af00\">266,610</span> (1.02 MB)\n",
              "</pre>\n"
            ],
            "text/plain": [
              "\u001b[1m Trainable params: \u001b[0m\u001b[38;5;34m266,610\u001b[0m (1.02 MB)\n"
            ]
          },
          "metadata": {},
          "output_type": "display_data"
        },
        {
          "data": {
            "text/html": [
              "<pre style=\"white-space:pre;overflow-x:auto;line-height:normal;font-family:Menlo,'DejaVu Sans Mono',consolas,'Courier New',monospace\"><span style=\"font-weight: bold\"> Non-trainable params: </span><span style=\"color: #00af00; text-decoration-color: #00af00\">0</span> (0.00 B)\n",
              "</pre>\n"
            ],
            "text/plain": [
              "\u001b[1m Non-trainable params: \u001b[0m\u001b[38;5;34m0\u001b[0m (0.00 B)\n"
            ]
          },
          "metadata": {},
          "output_type": "display_data"
        }
      ],
      "source": [
        "#Criamos uma rede neural, utilizando o modelo sequencial - Uma pilha de camadas, com cada camada tendo um tensor de entrada e um de saída.\n",
        "# https://keras.io/guides/sequential_model/\n",
        "nn = keras.models.Sequential()\n",
        "\n",
        "#Definição das camadas da rede:\n",
        "\n",
        "#\"Achata\" as imagens de entrada de 28x28 em um array de uma dimensão\n",
        "#https://keras.io/api/layers/reshaping_layers/flatten/\n",
        "nn.add(keras.layers.Flatten(input_shape=[28, 28]))\n",
        "\n",
        "#Camada \"densa\", com 300 neurônnios. Aplica uma função de ativação do tipo ReLU\n",
        "# https://keras.io/api/layers/core_layers/dense/\n",
        "nn.add(keras.layers.Dense(300, activation=\"relu\"))\n",
        "\n",
        "#Camada de \"dropout\", busca previnir overfitting desativando aleatoriamente neurônios com uma frequência de 10%.\n",
        "#https://keras.io/api/layers/regularization_layers/dropout/\n",
        "nn.add(keras.layers.Dropout(rate=0.1))\n",
        "\n",
        "#Mais uma camada densa, similar a anterior, porém, com 100 neurônios\n",
        "nn.add(keras.layers.Dense(100, activation=\"relu\"))\n",
        "\n",
        "#Outra camada de dropout, também com frequência de 10%.\n",
        "nn.add(keras.layers.Dropout(rate=0.1))\n",
        "\n",
        "#Camada de saída da nossa rede, com 10 neurônios, correspondentes às 10 possíveis classificações.\n",
        "#Aplica uma função de ativação do tipo \"softmax\", fazendo com que cada neurônio atue como uma demonstração da probabilidade do item pertencer a determinada classe.\n",
        "nn.add(keras.layers.Dense(10, activation=\"softmax\"))\n",
        "\n",
        "#Print do resumo das configurações definidas para a rede\n",
        "nn.summary()"
      ]
    },
    {
      "cell_type": "markdown",
      "metadata": {
        "id": "stsKAXBTLuJx"
      },
      "source": [
        "### Compilando e treinando o modelo"
      ]
    },
    {
      "cell_type": "code",
      "execution_count": 15,
      "metadata": {
        "id": "HfTozWbnLuJx"
      },
      "outputs": [
        {
          "name": "stdout",
          "output_type": "stream",
          "text": [
            "CPU times: total: 0 ns\n",
            "Wall time: 0 ns\n",
            "Epoch 1/5\n",
            "\u001b[1m1719/1719\u001b[0m \u001b[32m━━━━━━━━━━━━━━━━━━━━\u001b[0m\u001b[37m\u001b[0m \u001b[1m5s\u001b[0m 2ms/step - accuracy: 0.6420 - loss: 1.0854 - val_accuracy: 0.8286 - val_loss: 0.5173\n",
            "Epoch 2/5\n",
            "\u001b[1m1719/1719\u001b[0m \u001b[32m━━━━━━━━━━━━━━━━━━━━\u001b[0m\u001b[37m\u001b[0m \u001b[1m3s\u001b[0m 2ms/step - accuracy: 0.8151 - loss: 0.5431 - val_accuracy: 0.8446 - val_loss: 0.4560\n",
            "Epoch 3/5\n",
            "\u001b[1m1719/1719\u001b[0m \u001b[32m━━━━━━━━━━━━━━━━━━━━\u001b[0m\u001b[37m\u001b[0m \u001b[1m3s\u001b[0m 2ms/step - accuracy: 0.8303 - loss: 0.4844 - val_accuracy: 0.8526 - val_loss: 0.4167\n",
            "Epoch 4/5\n",
            "\u001b[1m1719/1719\u001b[0m \u001b[32m━━━━━━━━━━━━━━━━━━━━\u001b[0m\u001b[37m\u001b[0m \u001b[1m3s\u001b[0m 2ms/step - accuracy: 0.8443 - loss: 0.4414 - val_accuracy: 0.8640 - val_loss: 0.3900\n",
            "Epoch 5/5\n",
            "\u001b[1m1719/1719\u001b[0m \u001b[32m━━━━━━━━━━━━━━━━━━━━\u001b[0m\u001b[37m\u001b[0m \u001b[1m3s\u001b[0m 2ms/step - accuracy: 0.8487 - loss: 0.4221 - val_accuracy: 0.8670 - val_loss: 0.3715\n"
          ]
        }
      ],
      "source": [
        "%time\n",
        "\n",
        "#Compila de fato a rede neural, definindo seus parâmetro principais.\n",
        "#https://keras.io/api/models/model_training_apis/\n",
        "\n",
        "nn.compile(loss=\"sparse_categorical_crossentropy\", #Função de perda que mede a perda baseando-se na possibilidade de duas ou mais labels de sáida - https://keras.io/api/losses/probabilistic_losses/#sparse_categorical_crossentropy-function\n",
        "           optimizer=\"sgd\", #Otimiza a rede baseando-se em um gradiante decrescente com momentum - https://keras.io/api/optimizers/sgd/\n",
        "           metrics=[\"accuracy\"]) #Define que a métrica a ser utilizada para julgar a performânce da rede será apenas sua acurácia - https://keras.io/api/metrics/\n",
        "\n",
        "#Treina o modelo, pasando por 5 épocas e utilizando os dados de treino e validação separados anteriormente.\n",
        "history_nn = nn.fit(X_train, y_train, epochs=5, validation_data=(X_valid, y_valid))"
      ]
    },
    {
      "cell_type": "markdown",
      "metadata": {
        "id": "Be1X1Je8eTff"
      },
      "source": [
        "### Visualizar a performance"
      ]
    },
    {
      "cell_type": "code",
      "execution_count": 16,
      "metadata": {
        "id": "fHwnv3EseUkP"
      },
      "outputs": [
        {
          "data": {
            "image/png": "[encoded data removed]",
            "text/plain": [
              "<Figure size 1200x800 with 1 Axes>"
            ]
          },
          "metadata": {},
          "output_type": "display_data"
        }
      ],
      "source": [
        "#Apresenta os dados da performânce do algoritmo, atráves do membro history, preenchido com a execução.\n",
        "\n",
        "pd.DataFrame(history_nn.history).plot(figsize=(12, 8))\n",
        "plt.grid(True)\n",
        "plt.gca().set_ylim(0, 1) # set the vertical range to [0-1]\n",
        "plt.show()"
      ]
    },
    {
      "cell_type": "markdown",
      "metadata": {
        "id": "19B6NqclLuJx"
      },
      "source": [
        "### Avaliar o modelo"
      ]
    },
    {
      "cell_type": "code",
      "execution_count": 17,
      "metadata": {
        "id": "Ka4r9YLWLuJx"
      },
      "outputs": [
        {
          "name": "stdout",
          "output_type": "stream",
          "text": [
            "\u001b[1m313/313\u001b[0m \u001b[32m━━━━━━━━━━━━━━━━━━━━\u001b[0m\u001b[37m\u001b[0m \u001b[1m0s\u001b[0m 968us/step - accuracy: 0.8317 - loss: 56.9634\n"
          ]
        },
        {
          "data": {
            "text/plain": [
              "[60.573814392089844, 0.8258000016212463]"
            ]
          },
          "execution_count": 17,
          "metadata": {},
          "output_type": "execute_result"
        }
      ],
      "source": [
        "#Printa loss(perda) e accuracy(acurácia)\n",
        "nn.evaluate(X_test, y_test,verbose=1)\n",
        "\n",
        "#TODO - REAVALIAR ESSES RESULTADOS, QUE DECIDIRAM MUDAR E VER SE FAZ SENTIDO A ANÁLISE FEITA\n",
        "\n",
        "#Com uma loss de 60, podemos dizer que o algoritmo apresente um erro alto entre o previsto e os rótulos verdadeiros.\n",
        "#Uma acurácia de 0.82, indica que indica que cerca de 82% das entradas são calculadas corretamente.\n",
        "\n",
        "#Como temos uma loss alta, mas também uma acurácia relativamente alta, parece que a rede acerta a maioria das vezes, mas quando comete erros, comete eles por uma grande margem."
      ]
    },
    {
      "cell_type": "markdown",
      "metadata": {
        "id": "JsCurYbOexqi"
      },
      "source": [
        "### Realizar uma Previsão"
      ]
    },
    {
      "cell_type": "code",
      "execution_count": 18,
      "metadata": {
        "id": "rsYS-xfFe3Iv"
      },
      "outputs": [
        {
          "name": "stdout",
          "output_type": "stream",
          "text": [
            "\u001b[1m1/1\u001b[0m \u001b[32m━━━━━━━━━━━━━━━━━━━━\u001b[0m\u001b[37m\u001b[0m \u001b[1m0s\u001b[0m 64ms/step\n"
          ]
        },
        {
          "data": {
            "text/plain": [
              "array([[0., 0., 0., 0., 0., 0., 0., 0., 0., 1.],\n",
              "       [0., 0., 1., 0., 0., 0., 0., 0., 0., 0.],\n",
              "       [0., 1., 0., 0., 0., 0., 0., 0., 0., 0.],\n",
              "       [0., 1., 0., 0., 0., 0., 0., 0., 0., 0.]], dtype=float32)"
            ]
          },
          "execution_count": 18,
          "metadata": {},
          "output_type": "execute_result"
        }
      ],
      "source": [
        "#Seleciona as primeiras 4 imagens de teste.\n",
        "X_novo = X_test[:4]\n",
        "\n",
        "#Preve as labels para essas 4 imagens.\n",
        "y_proba = nn.predict(X_novo)\n",
        "\n",
        "#Exibe as previsões de labels para cada um dos dados.\n",
        "y_proba"
      ]
    },
    {
      "cell_type": "code",
      "execution_count": 19,
      "metadata": {
        "id": "Zt6c0pFGe6-I"
      },
      "outputs": [
        {
          "name": "stdout",
          "output_type": "stream",
          "text": [
            "\u001b[1m1/1\u001b[0m \u001b[32m━━━━━━━━━━━━━━━━━━━━\u001b[0m\u001b[37m\u001b[0m \u001b[1m0s\u001b[0m 25ms/step\n",
            "[9 2 1 1]\n",
            "['bota' 'casaco' 'calca' 'calca']\n"
          ]
        }
      ],
      "source": [
        "#Extrai um array com a label com a maior probabilidade para a predição de cada um dos dados de X_novo\n",
        "y_pred = np.argmax(nn.predict(X_novo), axis=-1)\n",
        "\n",
        "#Mostra as labels numéricas\n",
        "print(y_pred)\n",
        "\n",
        "#Mostra os nomes de cada label\n",
        "print(np.array(nomes_classes)[y_pred])"
      ]
    },
    {
      "cell_type": "markdown",
      "metadata": {
        "id": "TF4oMeAie9PZ"
      },
      "source": [
        "### Verificar os resultados"
      ]
    },
    {
      "cell_type": "code",
      "execution_count": 20,
      "metadata": {
        "id": "OfnX_KyjfGYN"
      },
      "outputs": [
        {
          "name": "stdout",
          "output_type": "stream",
          "text": [
            "[9 2 1 1]\n"
          ]
        },
        {
          "data": {
            "text/plain": [
              "array(['bota', 'casaco', 'calca', 'calca'], dtype='<U10')"
            ]
          },
          "execution_count": 20,
          "metadata": {},
          "output_type": "execute_result"
        }
      ],
      "source": [
        "#Pega os primeiros 4 resultados/labels do array de teste\n",
        "y_novo = y_test[:4]\n",
        "\n",
        "#Mostra as labels\n",
        "print(y_novo)\n",
        "\n",
        "#Mostra seys nomes\n",
        "np.array(nomes_classes)[y_pred]\n",
        "\n",
        "#Aqui, podemos ver que bate com o resultado anterior, obtido pelo predict da Rede :D"
      ]
    },
    {
      "cell_type": "code",
      "execution_count": 21,
      "metadata": {
        "id": "GPI45glHfITC"
      },
      "outputs": [
        {
          "name": "stdout",
          "output_type": "stream",
          "text": [
            "calca\n"
          ]
        },
        {
          "data": {
            "image/png": "[encoded data removed]",
            "text/plain": [
              "<Figure size 640x480 with 1 Axes>"
            ]
          },
          "metadata": {},
          "output_type": "display_data"
        }
      ],
      "source": [
        "# example_n = 201\n",
        "\n",
        "#Mostra o nome da label seguindo o predict da rede\n",
        "print(nomes_classes[y_pred[2]])\n",
        "\n",
        "#E sua imagem Correspondente\n",
        "plt.imshow(X_novo[2], interpolation='nearest')\n",
        "plt.show()\n",
        "\n",
        "#Ambas apresentam uma calça"
      ]
    },
    {
      "cell_type": "markdown",
      "metadata": {
        "id": "YA9PAIkXLuJx"
      },
      "source": [
        "# Treinando CNN com Keras"
      ]
    },
    {
      "cell_type": "code",
      "execution_count": 22,
      "metadata": {
        "id": "xlAbxJaoLuJx"
      },
      "outputs": [
        {
          "name": "stderr",
          "output_type": "stream",
          "text": [
            "c:\\Users\\luizk\\AppData\\Local\\Programs\\Python\\Python311\\Lib\\site-packages\\keras\\src\\layers\\core\\input_layer.py:25: UserWarning: Argument `input_shape` is deprecated. Use `shape` instead.\n",
            "  warnings.warn(\n"
          ]
        }
      ],
      "source": [
        "#Criamos a Rede, utilizando também o modelo sequêncial\n",
        "cnn = keras.models.Sequential([\n",
        "\n",
        "#Definimos novamente as camadas:\n",
        "\n",
        "#Camada de entrada, dessa vez definindo sua forma como uma imagem de 28x28x1(um único canal de cor em escala de cinza)\n",
        "keras.layers.InputLayer(input_shape = (28,28,1)),\n",
        "\n",
        "#Camada convolucional 2D com 64 filtros, de dimensão 5x5.\n",
        "#Ativação novamente como ReLU.\n",
        "#Padding \"same\", define que utiliza-se padding igualmente para ambos os lados e para cima e baixo.\n",
        "#Define a função de inicialização do kernel de convolução, ou pesos dos filtros, como a Uniforme de Glorot - Mais detalhes em https://keras.io/api/layers/initializers/\n",
        "keras.layers.Conv2D(64, 5, activation='relu', padding='same', kernel_initializer='glorot_uniform'),\n",
        "\n",
        "#Camada que aplica um Max Pooling com janela 2x2.\n",
        "keras.layers.MaxPool2D(2),\n",
        "\n",
        "#Camada de convolução, aplicando 128 filtros 3x3, com mesmo padding e ativação anterior.\n",
        "keras.layers.Conv2D(128,3, activation='relu', padding='same'),\n",
        "\n",
        "#Camada de convolução, aplicando 128 filtros 3x3, com mesmo padding e ativação anterior.\n",
        "keras.layers.Conv2D(128,3, activation='relu', padding='same'),\n",
        "\n",
        "#Outra camada de Max Pooling em janela 2x2.\n",
        "keras.layers.MaxPool2D(2),\n",
        "\n",
        "#Camada de convolução, aplicando 258 filtros 3x3, com mesmo padding e ativação anterior.\n",
        "keras.layers.Conv2D(258,3, activation='relu', padding='same'),\n",
        "\n",
        "#Camada de convolução, aplicando 258 filtros 3x3, com mesmo padding e ativação anterior.\n",
        "keras.layers.Conv2D(258,3, activation='relu', padding='same'),\n",
        "\n",
        "#Outra camada de Max Pooling em janela 2x2.\n",
        "keras.layers.MaxPool2D(2),\n",
        "\n",
        "#\"Achata\" os dados em um array unidimensional.\n",
        "keras.layers.Flatten(),\n",
        "\n",
        "#Camada densa, com 128 neurônios e ativação ReLU.\n",
        "keras.layers.Dense(128, activation=\"relu\"),\n",
        "\n",
        "#Camada de \"dropout\", com uma frequência de 50%, para prevenir overfitting.\n",
        "keras.layers.Dropout(rate=0.5),\n",
        "\n",
        "#Camada densa, com 64 neurônios e ativação ReLU.\n",
        "keras.layers.Dense(64, activation=\"relu\"),\n",
        "\n",
        "#Mais uma camada de \"dropout\", com uma frequência de 50%.\n",
        "keras.layers.Dropout(rate=0.5),\n",
        "\n",
        "#Camada de saída da nossa rede, com 10 neurônios, correspondentes às 10 possíveis classificações.\n",
        "#Aplica uma função de ativação do tipo \"softmax\", fazendo com que cada neurônio atue como uma demonstração da probabilidade do item pertencer a determinada classe.\n",
        "keras.layers.Dense(10, activation=\"softmax\")])\n"
      ]
    },
    {
      "cell_type": "code",
      "execution_count": 23,
      "metadata": {
        "id": "cxw6_5HMLuJx"
      },
      "outputs": [
        {
          "data": {
            "text/html": [
              "<pre style=\"white-space:pre;overflow-x:auto;line-height:normal;font-family:Menlo,'DejaVu Sans Mono',consolas,'Courier New',monospace\"><span style=\"font-weight: bold\">Model: \"sequential_1\"</span>\n",
              "</pre>\n"
            ],
            "text/plain": [
              "\u001b[1mModel: \"sequential_1\"\u001b[0m\n"
            ]
          },
          "metadata": {},
          "output_type": "display_data"
        },
        {
          "data": {
            "text/html": [
              "<pre style=\"white-space:pre;overflow-x:auto;line-height:normal;font-family:Menlo,'DejaVu Sans Mono',consolas,'Courier New',monospace\">┏━━━━━━━━━━━━━━━━━━━━━━━━━━━━━━━━━┳━━━━━━━━━━━━━━━━━━━━━━━━┳━━━━━━━━━━━━━━━┓\n",
              "┃<span style=\"font-weight: bold\"> Layer (type)                    </span>┃<span style=\"font-weight: bold\"> Output Shape           </span>┃<span style=\"font-weight: bold\">       Param # </span>┃\n",
              "┡━━━━━━━━━━━━━━━━━━━━━━━━━━━━━━━━━╇━━━━━━━━━━━━━━━━━━━━━━━━╇━━━━━━━━━━━━━━━┩\n",
              "│ conv2d (<span style=\"color: #0087ff; text-decoration-color: #0087ff\">Conv2D</span>)                 │ (<span style=\"color: #00d7ff; text-decoration-color: #00d7ff\">None</span>, <span style=\"color: #00af00; text-decoration-color: #00af00\">28</span>, <span style=\"color: #00af00; text-decoration-color: #00af00\">28</span>, <span style=\"color: #00af00; text-decoration-color: #00af00\">64</span>)     │         <span style=\"color: #00af00; text-decoration-color: #00af00\">1,664</span> │\n",
              "├─────────────────────────────────┼────────────────────────┼───────────────┤\n",
              "│ max_pooling2d (<span style=\"color: #0087ff; text-decoration-color: #0087ff\">MaxPooling2D</span>)    │ (<span style=\"color: #00d7ff; text-decoration-color: #00d7ff\">None</span>, <span style=\"color: #00af00; text-decoration-color: #00af00\">14</span>, <span style=\"color: #00af00; text-decoration-color: #00af00\">14</span>, <span style=\"color: #00af00; text-decoration-color: #00af00\">64</span>)     │             <span style=\"color: #00af00; text-decoration-color: #00af00\">0</span> │\n",
              "├─────────────────────────────────┼────────────────────────┼───────────────┤\n",
              "│ conv2d_1 (<span style=\"color: #0087ff; text-decoration-color: #0087ff\">Conv2D</span>)               │ (<span style=\"color: #00d7ff; text-decoration-color: #00d7ff\">None</span>, <span style=\"color: #00af00; text-decoration-color: #00af00\">14</span>, <span style=\"color: #00af00; text-decoration-color: #00af00\">14</span>, <span style=\"color: #00af00; text-decoration-color: #00af00\">128</span>)    │        <span style=\"color: #00af00; text-decoration-color: #00af00\">73,856</span> │\n",
              "├─────────────────────────────────┼────────────────────────┼───────────────┤\n",
              "│ conv2d_2 (<span style=\"color: #0087ff; text-decoration-color: #0087ff\">Conv2D</span>)               │ (<span style=\"color: #00d7ff; text-decoration-color: #00d7ff\">None</span>, <span style=\"color: #00af00; text-decoration-color: #00af00\">14</span>, <span style=\"color: #00af00; text-decoration-color: #00af00\">14</span>, <span style=\"color: #00af00; text-decoration-color: #00af00\">128</span>)    │       <span style=\"color: #00af00; text-decoration-color: #00af00\">147,584</span> │\n",
              "├─────────────────────────────────┼────────────────────────┼───────────────┤\n",
              "│ max_pooling2d_1 (<span style=\"color: #0087ff; text-decoration-color: #0087ff\">MaxPooling2D</span>)  │ (<span style=\"color: #00d7ff; text-decoration-color: #00d7ff\">None</span>, <span style=\"color: #00af00; text-decoration-color: #00af00\">7</span>, <span style=\"color: #00af00; text-decoration-color: #00af00\">7</span>, <span style=\"color: #00af00; text-decoration-color: #00af00\">128</span>)      │             <span style=\"color: #00af00; text-decoration-color: #00af00\">0</span> │\n",
              "├─────────────────────────────────┼────────────────────────┼───────────────┤\n",
              "│ conv2d_3 (<span style=\"color: #0087ff; text-decoration-color: #0087ff\">Conv2D</span>)               │ (<span style=\"color: #00d7ff; text-decoration-color: #00d7ff\">None</span>, <span style=\"color: #00af00; text-decoration-color: #00af00\">7</span>, <span style=\"color: #00af00; text-decoration-color: #00af00\">7</span>, <span style=\"color: #00af00; text-decoration-color: #00af00\">258</span>)      │       <span style=\"color: #00af00; text-decoration-color: #00af00\">297,474</span> │\n",
              "├─────────────────────────────────┼────────────────────────┼───────────────┤\n",
              "│ conv2d_4 (<span style=\"color: #0087ff; text-decoration-color: #0087ff\">Conv2D</span>)               │ (<span style=\"color: #00d7ff; text-decoration-color: #00d7ff\">None</span>, <span style=\"color: #00af00; text-decoration-color: #00af00\">7</span>, <span style=\"color: #00af00; text-decoration-color: #00af00\">7</span>, <span style=\"color: #00af00; text-decoration-color: #00af00\">258</span>)      │       <span style=\"color: #00af00; text-decoration-color: #00af00\">599,334</span> │\n",
              "├─────────────────────────────────┼────────────────────────┼───────────────┤\n",
              "│ max_pooling2d_2 (<span style=\"color: #0087ff; text-decoration-color: #0087ff\">MaxPooling2D</span>)  │ (<span style=\"color: #00d7ff; text-decoration-color: #00d7ff\">None</span>, <span style=\"color: #00af00; text-decoration-color: #00af00\">3</span>, <span style=\"color: #00af00; text-decoration-color: #00af00\">3</span>, <span style=\"color: #00af00; text-decoration-color: #00af00\">258</span>)      │             <span style=\"color: #00af00; text-decoration-color: #00af00\">0</span> │\n",
              "├─────────────────────────────────┼────────────────────────┼───────────────┤\n",
              "│ flatten_1 (<span style=\"color: #0087ff; text-decoration-color: #0087ff\">Flatten</span>)             │ (<span style=\"color: #00d7ff; text-decoration-color: #00d7ff\">None</span>, <span style=\"color: #00af00; text-decoration-color: #00af00\">2322</span>)           │             <span style=\"color: #00af00; text-decoration-color: #00af00\">0</span> │\n",
              "├─────────────────────────────────┼────────────────────────┼───────────────┤\n",
              "│ dense_3 (<span style=\"color: #0087ff; text-decoration-color: #0087ff\">Dense</span>)                 │ (<span style=\"color: #00d7ff; text-decoration-color: #00d7ff\">None</span>, <span style=\"color: #00af00; text-decoration-color: #00af00\">128</span>)            │       <span style=\"color: #00af00; text-decoration-color: #00af00\">297,344</span> │\n",
              "├─────────────────────────────────┼────────────────────────┼───────────────┤\n",
              "│ dropout_2 (<span style=\"color: #0087ff; text-decoration-color: #0087ff\">Dropout</span>)             │ (<span style=\"color: #00d7ff; text-decoration-color: #00d7ff\">None</span>, <span style=\"color: #00af00; text-decoration-color: #00af00\">128</span>)            │             <span style=\"color: #00af00; text-decoration-color: #00af00\">0</span> │\n",
              "├─────────────────────────────────┼────────────────────────┼───────────────┤\n",
              "│ dense_4 (<span style=\"color: #0087ff; text-decoration-color: #0087ff\">Dense</span>)                 │ (<span style=\"color: #00d7ff; text-decoration-color: #00d7ff\">None</span>, <span style=\"color: #00af00; text-decoration-color: #00af00\">64</span>)             │         <span style=\"color: #00af00; text-decoration-color: #00af00\">8,256</span> │\n",
              "├─────────────────────────────────┼────────────────────────┼───────────────┤\n",
              "│ dropout_3 (<span style=\"color: #0087ff; text-decoration-color: #0087ff\">Dropout</span>)             │ (<span style=\"color: #00d7ff; text-decoration-color: #00d7ff\">None</span>, <span style=\"color: #00af00; text-decoration-color: #00af00\">64</span>)             │             <span style=\"color: #00af00; text-decoration-color: #00af00\">0</span> │\n",
              "├─────────────────────────────────┼────────────────────────┼───────────────┤\n",
              "│ dense_5 (<span style=\"color: #0087ff; text-decoration-color: #0087ff\">Dense</span>)                 │ (<span style=\"color: #00d7ff; text-decoration-color: #00d7ff\">None</span>, <span style=\"color: #00af00; text-decoration-color: #00af00\">10</span>)             │           <span style=\"color: #00af00; text-decoration-color: #00af00\">650</span> │\n",
              "└─────────────────────────────────┴────────────────────────┴───────────────┘\n",
              "</pre>\n"
            ],
            "text/plain": [
              "┏━━━━━━━━━━━━━━━━━━━━━━━━━━━━━━━━━┳━━━━━━━━━━━━━━━━━━━━━━━━┳━━━━━━━━━━━━━━━┓\n",
              "┃\u001b[1m \u001b[0m\u001b[1mLayer (type)                   \u001b[0m\u001b[1m \u001b[0m┃\u001b[1m \u001b[0m\u001b[1mOutput Shape          \u001b[0m\u001b[1m \u001b[0m┃\u001b[1m \u001b[0m\u001b[1m      Param #\u001b[0m\u001b[1m \u001b[0m┃\n",
              "┡━━━━━━━━━━━━━━━━━━━━━━━━━━━━━━━━━╇━━━━━━━━━━━━━━━━━━━━━━━━╇━━━━━━━━━━━━━━━┩\n",
              "│ conv2d (\u001b[38;5;33mConv2D\u001b[0m)                 │ (\u001b[38;5;45mNone\u001b[0m, \u001b[38;5;34m28\u001b[0m, \u001b[38;5;34m28\u001b[0m, \u001b[38;5;34m64\u001b[0m)     │         \u001b[38;5;34m1,664\u001b[0m │\n",
              "├─────────────────────────────────┼────────────────────────┼───────────────┤\n",
              "│ max_pooling2d (\u001b[38;5;33mMaxPooling2D\u001b[0m)    │ (\u001b[38;5;45mNone\u001b[0m, \u001b[38;5;34m14\u001b[0m, \u001b[38;5;34m14\u001b[0m, \u001b[38;5;34m64\u001b[0m)     │             \u001b[38;5;34m0\u001b[0m │\n",
              "├─────────────────────────────────┼────────────────────────┼───────────────┤\n",
              "│ conv2d_1 (\u001b[38;5;33mConv2D\u001b[0m)               │ (\u001b[38;5;45mNone\u001b[0m, \u001b[38;5;34m14\u001b[0m, \u001b[38;5;34m14\u001b[0m, \u001b[38;5;34m128\u001b[0m)    │        \u001b[38;5;34m73,856\u001b[0m │\n",
              "├─────────────────────────────────┼────────────────────────┼───────────────┤\n",
              "│ conv2d_2 (\u001b[38;5;33mConv2D\u001b[0m)               │ (\u001b[38;5;45mNone\u001b[0m, \u001b[38;5;34m14\u001b[0m, \u001b[38;5;34m14\u001b[0m, \u001b[38;5;34m128\u001b[0m)    │       \u001b[38;5;34m147,584\u001b[0m │\n",
              "├─────────────────────────────────┼────────────────────────┼───────────────┤\n",
              "│ max_pooling2d_1 (\u001b[38;5;33mMaxPooling2D\u001b[0m)  │ (\u001b[38;5;45mNone\u001b[0m, \u001b[38;5;34m7\u001b[0m, \u001b[38;5;34m7\u001b[0m, \u001b[38;5;34m128\u001b[0m)      │             \u001b[38;5;34m0\u001b[0m │\n",
              "├─────────────────────────────────┼────────────────────────┼───────────────┤\n",
              "│ conv2d_3 (\u001b[38;5;33mConv2D\u001b[0m)               │ (\u001b[38;5;45mNone\u001b[0m, \u001b[38;5;34m7\u001b[0m, \u001b[38;5;34m7\u001b[0m, \u001b[38;5;34m258\u001b[0m)      │       \u001b[38;5;34m297,474\u001b[0m │\n",
              "├─────────────────────────────────┼────────────────────────┼───────────────┤\n",
              "│ conv2d_4 (\u001b[38;5;33mConv2D\u001b[0m)               │ (\u001b[38;5;45mNone\u001b[0m, \u001b[38;5;34m7\u001b[0m, \u001b[38;5;34m7\u001b[0m, \u001b[38;5;34m258\u001b[0m)      │       \u001b[38;5;34m599,334\u001b[0m │\n",
              "├─────────────────────────────────┼────────────────────────┼───────────────┤\n",
              "│ max_pooling2d_2 (\u001b[38;5;33mMaxPooling2D\u001b[0m)  │ (\u001b[38;5;45mNone\u001b[0m, \u001b[38;5;34m3\u001b[0m, \u001b[38;5;34m3\u001b[0m, \u001b[38;5;34m258\u001b[0m)      │             \u001b[38;5;34m0\u001b[0m │\n",
              "├─────────────────────────────────┼────────────────────────┼───────────────┤\n",
              "│ flatten_1 (\u001b[38;5;33mFlatten\u001b[0m)             │ (\u001b[38;5;45mNone\u001b[0m, \u001b[38;5;34m2322\u001b[0m)           │             \u001b[38;5;34m0\u001b[0m │\n",
              "├─────────────────────────────────┼────────────────────────┼───────────────┤\n",
              "│ dense_3 (\u001b[38;5;33mDense\u001b[0m)                 │ (\u001b[38;5;45mNone\u001b[0m, \u001b[38;5;34m128\u001b[0m)            │       \u001b[38;5;34m297,344\u001b[0m │\n",
              "├─────────────────────────────────┼────────────────────────┼───────────────┤\n",
              "│ dropout_2 (\u001b[38;5;33mDropout\u001b[0m)             │ (\u001b[38;5;45mNone\u001b[0m, \u001b[38;5;34m128\u001b[0m)            │             \u001b[38;5;34m0\u001b[0m │\n",
              "├─────────────────────────────────┼────────────────────────┼───────────────┤\n",
              "│ dense_4 (\u001b[38;5;33mDense\u001b[0m)                 │ (\u001b[38;5;45mNone\u001b[0m, \u001b[38;5;34m64\u001b[0m)             │         \u001b[38;5;34m8,256\u001b[0m │\n",
              "├─────────────────────────────────┼────────────────────────┼───────────────┤\n",
              "│ dropout_3 (\u001b[38;5;33mDropout\u001b[0m)             │ (\u001b[38;5;45mNone\u001b[0m, \u001b[38;5;34m64\u001b[0m)             │             \u001b[38;5;34m0\u001b[0m │\n",
              "├─────────────────────────────────┼────────────────────────┼───────────────┤\n",
              "│ dense_5 (\u001b[38;5;33mDense\u001b[0m)                 │ (\u001b[38;5;45mNone\u001b[0m, \u001b[38;5;34m10\u001b[0m)             │           \u001b[38;5;34m650\u001b[0m │\n",
              "└─────────────────────────────────┴────────────────────────┴───────────────┘\n"
            ]
          },
          "metadata": {},
          "output_type": "display_data"
        },
        {
          "data": {
            "text/html": [
              "<pre style=\"white-space:pre;overflow-x:auto;line-height:normal;font-family:Menlo,'DejaVu Sans Mono',consolas,'Courier New',monospace\"><span style=\"font-weight: bold\"> Total params: </span><span style=\"color: #00af00; text-decoration-color: #00af00\">1,426,162</span> (5.44 MB)\n",
              "</pre>\n"
            ],
            "text/plain": [
              "\u001b[1m Total params: \u001b[0m\u001b[38;5;34m1,426,162\u001b[0m (5.44 MB)\n"
            ]
          },
          "metadata": {},
          "output_type": "display_data"
        },
        {
          "data": {
            "text/html": [
              "<pre style=\"white-space:pre;overflow-x:auto;line-height:normal;font-family:Menlo,'DejaVu Sans Mono',consolas,'Courier New',monospace\"><span style=\"font-weight: bold\"> Trainable params: </span><span style=\"color: #00af00; text-decoration-color: #00af00\">1,426,162</span> (5.44 MB)\n",
              "</pre>\n"
            ],
            "text/plain": [
              "\u001b[1m Trainable params: \u001b[0m\u001b[38;5;34m1,426,162\u001b[0m (5.44 MB)\n"
            ]
          },
          "metadata": {},
          "output_type": "display_data"
        },
        {
          "data": {
            "text/html": [
              "<pre style=\"white-space:pre;overflow-x:auto;line-height:normal;font-family:Menlo,'DejaVu Sans Mono',consolas,'Courier New',monospace\"><span style=\"font-weight: bold\"> Non-trainable params: </span><span style=\"color: #00af00; text-decoration-color: #00af00\">0</span> (0.00 B)\n",
              "</pre>\n"
            ],
            "text/plain": [
              "\u001b[1m Non-trainable params: \u001b[0m\u001b[38;5;34m0\u001b[0m (0.00 B)\n"
            ]
          },
          "metadata": {},
          "output_type": "display_data"
        }
      ],
      "source": [
        "#Print do resumo das configurações definidas para a rede\n",
        "cnn.summary()"
      ]
    },
    {
      "cell_type": "code",
      "execution_count": 24,
      "metadata": {
        "id": "wEhTE1mVLuJx"
      },
      "outputs": [
        {
          "name": "stdout",
          "output_type": "stream",
          "text": [
            "(55000, 28, 28)\n",
            "(55000, 28, 28, 1)\n"
          ]
        }
      ],
      "source": [
        "#Demonstra a dimensão do array de imagens de treinamento, sendo cada item uma matriz 28x28\n",
        "print(X_train.shape)\n",
        "\n",
        "#Redefine os arrays de imagens de treinamento e teste para cada item ser 28x28x1 - Uma imagem de 28x28 e um canal de cor.\n",
        "X_train_new = X_train.reshape(X_train.shape[0], X_train.shape[1], X_train.shape[2],1)\n",
        "X_valid_new = X_valid.reshape(X_valid.shape[0], X_valid.shape[1], X_valid.shape[2],1)\n",
        "X_test_new = X_test.reshape(X_test.shape[0], X_test.shape[1], X_test.shape[2],1)\n",
        "\n",
        "#Demonsta essa nova dimensão\n",
        "print(X_train_new.shape)"
      ]
    },
    {
      "cell_type": "code",
      "execution_count": 25,
      "metadata": {
        "id": "vr80opDHLuJx"
      },
      "outputs": [
        {
          "name": "stdout",
          "output_type": "stream",
          "text": [
            "Epoch 1/20\n",
            "\u001b[1m1719/1719\u001b[0m \u001b[32m━━━━━━━━━━━━━━━━━━━━\u001b[0m\u001b[37m\u001b[0m \u001b[1m112s\u001b[0m 64ms/step - accuracy: 0.3272 - loss: 1.8565 - val_accuracy: 0.7530 - val_loss: 0.6789\n",
            "Epoch 2/20\n",
            "\u001b[1m1719/1719\u001b[0m \u001b[32m━━━━━━━━━━━━━━━━━━━━\u001b[0m\u001b[37m\u001b[0m \u001b[1m109s\u001b[0m 63ms/step - accuracy: 0.6804 - loss: 0.8763 - val_accuracy: 0.7992 - val_loss: 0.5336\n",
            "Epoch 3/20\n",
            "\u001b[1m1719/1719\u001b[0m \u001b[32m━━━━━━━━━━━━━━━━━━━━\u001b[0m\u001b[37m\u001b[0m \u001b[1m108s\u001b[0m 63ms/step - accuracy: 0.7452 - loss: 0.6913 - val_accuracy: 0.8336 - val_loss: 0.4612\n",
            "Epoch 4/20\n",
            "\u001b[1m1719/1719\u001b[0m \u001b[32m━━━━━━━━━━━━━━━━━━━━\u001b[0m\u001b[37m\u001b[0m \u001b[1m109s\u001b[0m 63ms/step - accuracy: 0.7833 - loss: 0.6081 - val_accuracy: 0.8448 - val_loss: 0.4295\n",
            "Epoch 5/20\n",
            "\u001b[1m1719/1719\u001b[0m \u001b[32m━━━━━━━━━━━━━━━━━━━━\u001b[0m\u001b[37m\u001b[0m \u001b[1m117s\u001b[0m 68ms/step - accuracy: 0.8062 - loss: 0.5469 - val_accuracy: 0.8506 - val_loss: 0.3983\n",
            "Epoch 6/20\n",
            "\u001b[1m1719/1719\u001b[0m \u001b[32m━━━━━━━━━━━━━━━━━━━━\u001b[0m\u001b[37m\u001b[0m \u001b[1m123s\u001b[0m 72ms/step - accuracy: 0.8202 - loss: 0.5092 - val_accuracy: 0.8634 - val_loss: 0.3662\n",
            "Epoch 7/20\n",
            "\u001b[1m1719/1719\u001b[0m \u001b[32m━━━━━━━━━━━━━━━━━━━━\u001b[0m\u001b[37m\u001b[0m \u001b[1m115s\u001b[0m 67ms/step - accuracy: 0.8323 - loss: 0.4808 - val_accuracy: 0.8710 - val_loss: 0.3442\n",
            "Epoch 8/20\n",
            "\u001b[1m1719/1719\u001b[0m \u001b[32m━━━━━━━━━━━━━━━━━━━━\u001b[0m\u001b[37m\u001b[0m \u001b[1m114s\u001b[0m 66ms/step - accuracy: 0.8406 - loss: 0.4570 - val_accuracy: 0.8812 - val_loss: 0.3306\n",
            "Epoch 9/20\n",
            "\u001b[1m1719/1719\u001b[0m \u001b[32m━━━━━━━━━━━━━━━━━━━━\u001b[0m\u001b[37m\u001b[0m \u001b[1m114s\u001b[0m 66ms/step - accuracy: 0.8493 - loss: 0.4359 - val_accuracy: 0.8800 - val_loss: 0.3181\n",
            "Epoch 10/20\n",
            "\u001b[1m1719/1719\u001b[0m \u001b[32m━━━━━━━━━━━━━━━━━━━━\u001b[0m\u001b[37m\u001b[0m \u001b[1m114s\u001b[0m 66ms/step - accuracy: 0.8559 - loss: 0.4181 - val_accuracy: 0.8788 - val_loss: 0.3255\n",
            "Epoch 11/20\n",
            "\u001b[1m1719/1719\u001b[0m \u001b[32m━━━━━━━━━━━━━━━━━━━━\u001b[0m\u001b[37m\u001b[0m \u001b[1m113s\u001b[0m 65ms/step - accuracy: 0.8621 - loss: 0.4000 - val_accuracy: 0.8874 - val_loss: 0.3077\n",
            "Epoch 12/20\n",
            "\u001b[1m1719/1719\u001b[0m \u001b[32m━━━━━━━━━━━━━━━━━━━━\u001b[0m\u001b[37m\u001b[0m \u001b[1m112s\u001b[0m 65ms/step - accuracy: 0.8688 - loss: 0.3810 - val_accuracy: 0.8884 - val_loss: 0.2955\n",
            "Epoch 13/20\n",
            "\u001b[1m1719/1719\u001b[0m \u001b[32m━━━━━━━━━━━━━━━━━━━━\u001b[0m\u001b[37m\u001b[0m \u001b[1m109s\u001b[0m 63ms/step - accuracy: 0.8722 - loss: 0.3659 - val_accuracy: 0.8818 - val_loss: 0.3105\n",
            "Epoch 14/20\n",
            "\u001b[1m1719/1719\u001b[0m \u001b[32m━━━━━━━━━━━━━━━━━━━━\u001b[0m\u001b[37m\u001b[0m \u001b[1m109s\u001b[0m 63ms/step - accuracy: 0.8821 - loss: 0.3465 - val_accuracy: 0.8926 - val_loss: 0.2916\n",
            "Epoch 15/20\n",
            "\u001b[1m1719/1719\u001b[0m \u001b[32m━━━━━━━━━━━━━━━━━━━━\u001b[0m\u001b[37m\u001b[0m \u001b[1m109s\u001b[0m 64ms/step - accuracy: 0.8819 - loss: 0.3499 - val_accuracy: 0.8942 - val_loss: 0.2781\n",
            "Epoch 16/20\n",
            "\u001b[1m1719/1719\u001b[0m \u001b[32m━━━━━━━━━━━━━━━━━━━━\u001b[0m\u001b[37m\u001b[0m \u001b[1m114s\u001b[0m 66ms/step - accuracy: 0.8855 - loss: 0.3355 - val_accuracy: 0.8932 - val_loss: 0.2793\n",
            "Epoch 17/20\n",
            "\u001b[1m1719/1719\u001b[0m \u001b[32m━━━━━━━━━━━━━━━━━━━━\u001b[0m\u001b[37m\u001b[0m \u001b[1m109s\u001b[0m 63ms/step - accuracy: 0.8893 - loss: 0.3254 - val_accuracy: 0.8964 - val_loss: 0.2768\n",
            "Epoch 18/20\n",
            "\u001b[1m1719/1719\u001b[0m \u001b[32m━━━━━━━━━━━━━━━━━━━━\u001b[0m\u001b[37m\u001b[0m \u001b[1m110s\u001b[0m 64ms/step - accuracy: 0.8897 - loss: 0.3205 - val_accuracy: 0.8962 - val_loss: 0.2758\n",
            "Epoch 19/20\n",
            "\u001b[1m1719/1719\u001b[0m \u001b[32m━━━━━━━━━━━━━━━━━━━━\u001b[0m\u001b[37m\u001b[0m \u001b[1m109s\u001b[0m 64ms/step - accuracy: 0.8995 - loss: 0.2999 - val_accuracy: 0.8970 - val_loss: 0.2743\n",
            "Epoch 20/20\n",
            "\u001b[1m1719/1719\u001b[0m \u001b[32m━━━━━━━━━━━━━━━━━━━━\u001b[0m\u001b[37m\u001b[0m \u001b[1m112s\u001b[0m 65ms/step - accuracy: 0.8947 - loss: 0.3021 - val_accuracy: 0.9042 - val_loss: 0.2620\n"
          ]
        }
      ],
      "source": [
        "#Compila novamente rede neural, utilizando os mesmos parâmetros de perda, otimização e métricas que anteriormente.\n",
        "cnn.compile(loss=\"sparse_categorical_crossentropy\",\n",
        "            optimizer=\"sgd\",\n",
        "            metrics=[\"accuracy\"])\n",
        "\n",
        "#Treina o modelo, porém agora utilizando 20 épocas.\n",
        "history_cnn = cnn.fit(X_train_new, y_train, epochs=20, validation_data=(X_valid_new, y_valid))"
      ]
    },
    {
      "cell_type": "markdown",
      "metadata": {
        "id": "g1LzINmFLuJy"
      },
      "source": [
        "### Avaliar o modelo"
      ]
    },
    {
      "cell_type": "code",
      "execution_count": 26,
      "metadata": {
        "id": "_xV2EgWCLuJy"
      },
      "outputs": [
        {
          "name": "stdout",
          "output_type": "stream",
          "text": [
            "\u001b[1m313/313\u001b[0m \u001b[32m━━━━━━━━━━━━━━━━━━━━\u001b[0m\u001b[37m\u001b[0m \u001b[1m7s\u001b[0m 22ms/step - accuracy: 0.8528 - loss: 27.1337\n"
          ]
        },
        {
          "data": {
            "text/plain": [
              "[27.972496032714844, 0.8507999777793884]"
            ]
          },
          "execution_count": 26,
          "metadata": {},
          "output_type": "execute_result"
        }
      ],
      "source": [
        "#Printa loss(perda) e accuracy(acurácia)\n",
        "cnn.evaluate(X_test_new, y_test,verbose=1)"
      ]
    },
    {
      "cell_type": "code",
      "execution_count": 27,
      "metadata": {
        "id": "mrT2Xba5LuJy"
      },
      "outputs": [
        {
          "data": {
            "image/png": "[encoded data removed]",
            "text/plain": [
              "<Figure size 1200x800 with 1 Axes>"
            ]
          },
          "metadata": {},
          "output_type": "display_data"
        }
      ],
      "source": [
        "#Apresenta os dados da performânce do algoritmo, atráves do membro history, preenchido com a execução.\n",
        "pd.DataFrame(history_cnn.history).plot(figsize=(12, 8))\n",
        "plt.grid(True)\n",
        "plt.gca().set_ylim(0, 1) # set the vertical range to [0-1]\n",
        "plt.show()"
      ]
    }
  ],
  "metadata": {
    "colab": {
      "provenance": []
    },
    "kernelspec": {
      "display_name": "Python 3",
      "language": "python",
      "name": "python3"
    },
    "language_info": {
      "codemirror_mode": {
        "name": "ipython",
        "version": 3
      },
      "file_extension": ".py",
      "mimetype": "text/x-python",
      "name": "python",
      "nbconvert_exporter": "python",
      "pygments_lexer": "ipython3",
      "version": "3.11.5"
    }
  },
  "nbformat": 4,
  "nbformat_minor": 0
}
